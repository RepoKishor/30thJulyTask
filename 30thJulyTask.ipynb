{
 "cells": [
  {
   "cell_type": "code",
   "execution_count": 2,
   "id": "47ad3aac",
   "metadata": {},
   "outputs": [],
   "source": [
    "import pandas as pd"
   ]
  },
  {
   "cell_type": "code",
   "execution_count": 3,
   "id": "38b25450",
   "metadata": {},
   "outputs": [],
   "source": [
    "df = pd.read_csv('Agent Performance Report.csv')"
   ]
  },
  {
   "cell_type": "code",
   "execution_count": 54,
   "id": "16b281da",
   "metadata": {},
   "outputs": [
    {
     "data": {
      "text/html": [
       "<div>\n",
       "<style scoped>\n",
       "    .dataframe tbody tr th:only-of-type {\n",
       "        vertical-align: middle;\n",
       "    }\n",
       "\n",
       "    .dataframe tbody tr th {\n",
       "        vertical-align: top;\n",
       "    }\n",
       "\n",
       "    .dataframe thead th {\n",
       "        text-align: right;\n",
       "    }\n",
       "</style>\n",
       "<table border=\"1\" class=\"dataframe\">\n",
       "  <thead>\n",
       "    <tr style=\"text-align: right;\">\n",
       "      <th></th>\n",
       "      <th>SL No</th>\n",
       "      <th>Date</th>\n",
       "      <th>Agent Name</th>\n",
       "      <th>Total Chats</th>\n",
       "      <th>Average Response Time</th>\n",
       "      <th>Average Resolution Time</th>\n",
       "      <th>Average Rating</th>\n",
       "      <th>Total Feedback</th>\n",
       "      <th>service_date</th>\n",
       "      <th>service_date_year</th>\n",
       "      <th>service_date_week</th>\n",
       "      <th>%age</th>\n",
       "      <th>service_date_month</th>\n",
       "      <th>AvgRespTime</th>\n",
       "      <th>AvgResolutionTm</th>\n",
       "    </tr>\n",
       "  </thead>\n",
       "  <tbody>\n",
       "    <tr>\n",
       "      <th>0</th>\n",
       "      <td>1</td>\n",
       "      <td>30-07-2022</td>\n",
       "      <td>Prerna Singh</td>\n",
       "      <td>11</td>\n",
       "      <td>00:00:38</td>\n",
       "      <td>00:04:20</td>\n",
       "      <td>4.11</td>\n",
       "      <td>9</td>\n",
       "      <td>2022-07-30</td>\n",
       "      <td>2022</td>\n",
       "      <td>30</td>\n",
       "      <td>81.818182</td>\n",
       "      <td>7</td>\n",
       "      <td>0 days 00:00:38</td>\n",
       "      <td>0 days 00:04:20</td>\n",
       "    </tr>\n",
       "    <tr>\n",
       "      <th>1</th>\n",
       "      <td>2</td>\n",
       "      <td>30-07-2022</td>\n",
       "      <td>Nandani Gupta</td>\n",
       "      <td>11</td>\n",
       "      <td>00:01:15</td>\n",
       "      <td>00:28:25</td>\n",
       "      <td>3.14</td>\n",
       "      <td>7</td>\n",
       "      <td>2022-07-30</td>\n",
       "      <td>2022</td>\n",
       "      <td>30</td>\n",
       "      <td>63.636364</td>\n",
       "      <td>7</td>\n",
       "      <td>0 days 00:01:15</td>\n",
       "      <td>0 days 00:28:25</td>\n",
       "    </tr>\n",
       "    <tr>\n",
       "      <th>2</th>\n",
       "      <td>3</td>\n",
       "      <td>30-07-2022</td>\n",
       "      <td>Ameya Jain</td>\n",
       "      <td>14</td>\n",
       "      <td>00:00:30</td>\n",
       "      <td>00:11:36</td>\n",
       "      <td>4.55</td>\n",
       "      <td>11</td>\n",
       "      <td>2022-07-30</td>\n",
       "      <td>2022</td>\n",
       "      <td>30</td>\n",
       "      <td>78.571429</td>\n",
       "      <td>7</td>\n",
       "      <td>0 days 00:00:30</td>\n",
       "      <td>0 days 00:11:36</td>\n",
       "    </tr>\n",
       "    <tr>\n",
       "      <th>3</th>\n",
       "      <td>4</td>\n",
       "      <td>30-07-2022</td>\n",
       "      <td>Mahesh Sarade</td>\n",
       "      <td>14</td>\n",
       "      <td>00:01:04</td>\n",
       "      <td>00:15:46</td>\n",
       "      <td>4.71</td>\n",
       "      <td>7</td>\n",
       "      <td>2022-07-30</td>\n",
       "      <td>2022</td>\n",
       "      <td>30</td>\n",
       "      <td>50.000000</td>\n",
       "      <td>7</td>\n",
       "      <td>0 days 00:01:04</td>\n",
       "      <td>0 days 00:15:46</td>\n",
       "    </tr>\n",
       "    <tr>\n",
       "      <th>4</th>\n",
       "      <td>5</td>\n",
       "      <td>30-07-2022</td>\n",
       "      <td>Swati</td>\n",
       "      <td>14</td>\n",
       "      <td>00:01:11</td>\n",
       "      <td>00:16:33</td>\n",
       "      <td>3.67</td>\n",
       "      <td>6</td>\n",
       "      <td>2022-07-30</td>\n",
       "      <td>2022</td>\n",
       "      <td>30</td>\n",
       "      <td>42.857143</td>\n",
       "      <td>7</td>\n",
       "      <td>0 days 00:01:11</td>\n",
       "      <td>0 days 00:16:33</td>\n",
       "    </tr>\n",
       "  </tbody>\n",
       "</table>\n",
       "</div>"
      ],
      "text/plain": [
       "   SL No        Date     Agent Name  Total Chats Average Response Time  \\\n",
       "0      1  30-07-2022   Prerna Singh           11              00:00:38   \n",
       "1      2  30-07-2022  Nandani Gupta           11              00:01:15   \n",
       "2      3  30-07-2022     Ameya Jain           14              00:00:30   \n",
       "3      4  30-07-2022  Mahesh Sarade           14              00:01:04   \n",
       "4      5  30-07-2022         Swati            14              00:01:11   \n",
       "\n",
       "  Average Resolution Time  Average Rating  Total Feedback service_date  \\\n",
       "0                00:04:20            4.11               9   2022-07-30   \n",
       "1                00:28:25            3.14               7   2022-07-30   \n",
       "2                00:11:36            4.55              11   2022-07-30   \n",
       "3                00:15:46            4.71               7   2022-07-30   \n",
       "4                00:16:33            3.67               6   2022-07-30   \n",
       "\n",
       "   service_date_year  service_date_week       %age  service_date_month  \\\n",
       "0               2022                 30  81.818182                   7   \n",
       "1               2022                 30  63.636364                   7   \n",
       "2               2022                 30  78.571429                   7   \n",
       "3               2022                 30  50.000000                   7   \n",
       "4               2022                 30  42.857143                   7   \n",
       "\n",
       "      AvgRespTime AvgResolutionTm  \n",
       "0 0 days 00:00:38 0 days 00:04:20  \n",
       "1 0 days 00:01:15 0 days 00:28:25  \n",
       "2 0 days 00:00:30 0 days 00:11:36  \n",
       "3 0 days 00:01:04 0 days 00:15:46  \n",
       "4 0 days 00:01:11 0 days 00:16:33  "
      ]
     },
     "execution_count": 54,
     "metadata": {},
     "output_type": "execute_result"
    }
   ],
   "source": [
    "df.head()"
   ]
  },
  {
   "cell_type": "code",
   "execution_count": 5,
   "id": "880c124f",
   "metadata": {},
   "outputs": [
    {
     "data": {
      "text/plain": [
       "SL No                        int64\n",
       "Date                        object\n",
       "Agent Name                  object\n",
       "Total Chats                  int64\n",
       "Average Response Time       object\n",
       "Average Resolution Time     object\n",
       "Average Rating             float64\n",
       "Total Feedback               int64\n",
       "dtype: object"
      ]
     },
     "execution_count": 5,
     "metadata": {},
     "output_type": "execute_result"
    }
   ],
   "source": [
    "df.dtypes"
   ]
  },
  {
   "cell_type": "code",
   "execution_count": null,
   "id": "bb2d4f34",
   "metadata": {},
   "outputs": [],
   "source": [
    "#1 .Find out there avarage rating on weekly basis keep this in a mind that they take two days of leave"
   ]
  },
  {
   "cell_type": "code",
   "execution_count": 6,
   "id": "593cd0a5",
   "metadata": {},
   "outputs": [],
   "source": [
    "df['service_date'] = pd.to_datetime(df['Date'])"
   ]
  },
  {
   "cell_type": "code",
   "execution_count": 7,
   "id": "43a8cbef",
   "metadata": {},
   "outputs": [],
   "source": [
    "df['service_date_year'] = df['service_date'].dt.year"
   ]
  },
  {
   "cell_type": "code",
   "execution_count": 22,
   "id": "6edf8000",
   "metadata": {},
   "outputs": [],
   "source": [
    "df['service_date_month'] = df['service_date'].dt.month"
   ]
  },
  {
   "cell_type": "code",
   "execution_count": 8,
   "id": "b5265baf",
   "metadata": {},
   "outputs": [
    {
     "name": "stderr",
     "output_type": "stream",
     "text": [
      "C:\\Users\\SSIM\\AppData\\Local\\Temp/ipykernel_17368/553774779.py:1: FutureWarning: Series.dt.weekofyear and Series.dt.week have been deprecated.  Please use Series.dt.isocalendar().week instead.\n",
      "  df['service_date_week'] = df['service_date'].dt.weekofyear\n"
     ]
    }
   ],
   "source": [
    "df['service_date_week'] = df['service_date'].dt.weekofyear"
   ]
  },
  {
   "cell_type": "code",
   "execution_count": 9,
   "id": "8089652b",
   "metadata": {},
   "outputs": [
    {
     "data": {
      "text/plain": [
       "service_date_week\n",
       "1     1.076667\n",
       "6     0.975972\n",
       "10    0.943472\n",
       "14    0.975278\n",
       "18    1.317917\n",
       "23    1.333611\n",
       "27    1.542083\n",
       "28    1.534389\n",
       "29    1.511389\n",
       "30    1.617847\n",
       "31    1.749861\n",
       "36    1.583056\n",
       "40    1.204722\n",
       "45    1.723194\n",
       "49    1.444306\n",
       "Name: Average Rating, dtype: float64"
      ]
     },
     "execution_count": 9,
     "metadata": {},
     "output_type": "execute_result"
    }
   ],
   "source": [
    "df.groupby('service_date_week')['Average Rating'].mean()"
   ]
  },
  {
   "cell_type": "code",
   "execution_count": 10,
   "id": "72fe4d40",
   "metadata": {},
   "outputs": [
    {
     "data": {
      "text/plain": [
       "Agent Name\n",
       "Abhishek         30\n",
       "Aditya           30\n",
       "Aditya Shinde    30\n",
       "Aditya_iot       30\n",
       "Amersh           30\n",
       "                 ..\n",
       "Uday Mishra      30\n",
       "Vasanth P        30\n",
       "Vivek            30\n",
       "Wasim            30\n",
       "Zeeshan          30\n",
       "Name: Date, Length: 70, dtype: int64"
      ]
     },
     "execution_count": 10,
     "metadata": {},
     "output_type": "execute_result"
    }
   ],
   "source": [
    "# 2 .Total working days for each agents \n",
    "df.groupby('Agent Name')['Date'].count()"
   ]
  },
  {
   "cell_type": "code",
   "execution_count": 11,
   "id": "d751c179",
   "metadata": {},
   "outputs": [
    {
     "data": {
      "text/plain": [
       "Agent Name\n",
       "Abhishek           0\n",
       "Aditya             0\n",
       "Aditya Shinde    277\n",
       "Aditya_iot       231\n",
       "Amersh             0\n",
       "                ... \n",
       "Uday Mishra        0\n",
       "Vasanth P          0\n",
       "Vivek             44\n",
       "Wasim            433\n",
       "Zeeshan          542\n",
       "Name: Total Chats, Length: 70, dtype: int64"
      ]
     },
     "execution_count": 11,
     "metadata": {},
     "output_type": "execute_result"
    }
   ],
   "source": [
    "#3. Total query that you hvae taken \n",
    "df.groupby('Agent Name')['Total Chats'].sum()"
   ]
  },
  {
   "cell_type": "code",
   "execution_count": 12,
   "id": "7f080f9c",
   "metadata": {},
   "outputs": [
    {
     "data": {
      "text/plain": [
       "Agent Name\n",
       "Abhishek           0\n",
       "Aditya             0\n",
       "Aditya Shinde    153\n",
       "Aditya_iot       131\n",
       "Amersh             0\n",
       "                ... \n",
       "Uday Mishra        0\n",
       "Vasanth P          0\n",
       "Vivek             20\n",
       "Wasim            284\n",
       "Zeeshan          335\n",
       "Name: Total Feedback, Length: 70, dtype: int64"
      ]
     },
     "execution_count": 12,
     "metadata": {},
     "output_type": "execute_result"
    }
   ],
   "source": [
    "#4. total Feedback that you have received\n",
    "df.groupby('Agent Name')['Total Feedback'].sum()"
   ]
  },
  {
   "cell_type": "code",
   "execution_count": 13,
   "id": "9fec6531",
   "metadata": {},
   "outputs": [
    {
     "data": {
      "text/plain": [
       "0              Prerna Singh\n",
       "4                    Swati \n",
       "8            Shubham Sharma\n",
       "9              Nishtha Jain\n",
       "10             Manjunatha A\n",
       "               ...         \n",
       "2091           Jayant Kumar\n",
       "2092    Boktiar Ahmed Bappy\n",
       "2093            Rishav Dash\n",
       "2097          Sanjeev Kumar\n",
       "2099           Prerna Singh\n",
       "Name: Agent Name, Length: 358, dtype: object"
      ]
     },
     "execution_count": 13,
     "metadata": {},
     "output_type": "execute_result"
    }
   ],
   "source": [
    "#5. a agent name who have average rating between 3.5 to 4\n",
    "df[(df['Average Rating'] > 3.5) & (df['Average Rating'] < 4.5)]['Agent Name']"
   ]
  },
  {
   "cell_type": "code",
   "execution_count": 14,
   "id": "78f18688",
   "metadata": {},
   "outputs": [
    {
     "data": {
      "text/plain": [
       "358"
      ]
     },
     "execution_count": 14,
     "metadata": {},
     "output_type": "execute_result"
    }
   ],
   "source": [
    "df[(df['Average Rating'] > 3.5) & (df['Average Rating'] < 4.5)]['Agent Name'].count()"
   ]
  },
  {
   "cell_type": "code",
   "execution_count": 15,
   "id": "d06c0144",
   "metadata": {},
   "outputs": [
    {
     "data": {
      "text/plain": [
       "1             Nandani Gupta\n",
       "71           Jawala Prakash\n",
       "92        Sowmiya Sivakumar\n",
       "145        Shiva Srivastava\n",
       "148             Aditya_iot \n",
       "159            Nishtha Jain\n",
       "221             Aditya_iot \n",
       "231               Ankitjha \n",
       "298      Chaitra K Hiremath\n",
       "306                Mithun S\n",
       "358          Jawala Prakash\n",
       "644          Ishawant Kumar\n",
       "716     Boktiar Ahmed Bappy\n",
       "720          Jawala Prakash\n",
       "788           Ayushi Mishra\n",
       "1228                 Vivek \n",
       "1241          Mahesh Sarade\n",
       "1298            Aditya_iot \n",
       "1299                 Vivek \n",
       "1369                 Vivek \n",
       "1444     Harikrishnan Shaji\n",
       "1452               Anirudh \n",
       "1525          Mahesh Sarade\n",
       "1588                 Vivek \n",
       "1590          Mahesh Sarade\n",
       "1593            Mukesh Rao \n",
       "1650           Jayant Kumar\n",
       "1656          Sanjeev Kumar\n",
       "1664          Anurag Tiwari\n",
       "1665     Harikrishnan Shaji\n",
       "1666               Mithun S\n",
       "1667            Mukesh Rao \n",
       "1798            Ashad Nasim\n",
       "1800               Anirudh \n",
       "1801               Maneesh \n",
       "1808           Jayant Kumar\n",
       "1812                 Mahak \n",
       "1816               Mithun S\n",
       "1817     Shivananda Sonwane\n",
       "1821           Prerna Singh\n",
       "1951               Shivan K\n",
       "1953           Jayant Kumar\n",
       "2020          Nandani Gupta\n",
       "2090         Saurabh Shukla\n",
       "2105                 Tarun \n",
       "Name: Agent Name, dtype: object"
      ]
     },
     "execution_count": 15,
     "metadata": {},
     "output_type": "execute_result"
    }
   ],
   "source": [
    "#6 . Agent name who have rating less than 3.5\n",
    "df[(df['Average Rating'] > 0.0) & (df['Average Rating'] < 3.5)]['Agent Name']"
   ]
  },
  {
   "cell_type": "code",
   "execution_count": 16,
   "id": "dd6d6510",
   "metadata": {},
   "outputs": [
    {
     "data": {
      "text/plain": [
       "45"
      ]
     },
     "execution_count": 16,
     "metadata": {},
     "output_type": "execute_result"
    }
   ],
   "source": [
    "#6 . Agent name who have rating lesss then 3.5\n",
    "df[(df['Average Rating'] > 0.0) & (df['Average Rating'] < 3.5)]['Agent Name'].count()"
   ]
  },
  {
   "cell_type": "code",
   "execution_count": 17,
   "id": "6d937b15",
   "metadata": {},
   "outputs": [
    {
     "data": {
      "text/plain": [
       "2               Ameya Jain\n",
       "3            Mahesh Sarade\n",
       "5                  Mukesh \n",
       "6          Saikumarreddy N\n",
       "7            Sanjeev Kumar\n",
       "               ...        \n",
       "2100        Shubham Sharma\n",
       "2101         Jaydeep Dixit\n",
       "2102    Shivananda Sonwane\n",
       "2103        Khushboo Priya\n",
       "2104       Hrisikesh Neogi\n",
       "Name: Agent Name, Length: 307, dtype: object"
      ]
     },
     "execution_count": 17,
     "metadata": {},
     "output_type": "execute_result"
    }
   ],
   "source": [
    "#7 . agent name who have rating more then 4.5 \n",
    "df[df['Average Rating'] > 4.5]['Agent Name']"
   ]
  },
  {
   "cell_type": "code",
   "execution_count": 18,
   "id": "666487b1",
   "metadata": {},
   "outputs": [
    {
     "data": {
      "text/plain": [
       "2               Ameya Jain\n",
       "3            Mahesh Sarade\n",
       "5                  Mukesh \n",
       "6          Saikumarreddy N\n",
       "7            Sanjeev Kumar\n",
       "               ...        \n",
       "2100        Shubham Sharma\n",
       "2101         Jaydeep Dixit\n",
       "2102    Shivananda Sonwane\n",
       "2103        Khushboo Priya\n",
       "2104       Hrisikesh Neogi\n",
       "Name: Agent Name, Length: 307, dtype: object"
      ]
     },
     "execution_count": 18,
     "metadata": {},
     "output_type": "execute_result"
    }
   ],
   "source": [
    "#8 . how many feedaback agents have received more then 4.5 average\n",
    "df[(df['Average Rating'] > 4.5) & (df['Total Feedback'] > 0)]['Agent Name']"
   ]
  },
  {
   "cell_type": "code",
   "execution_count": 31,
   "id": "f2297505",
   "metadata": {},
   "outputs": [
    {
     "data": {
      "text/plain": [
       "service_date_week\n",
       "1    0 days 00:00:20.944444444\n",
       "6    0 days 00:00:17.847222222\n",
       "10   0 days 00:00:17.013888888\n",
       "14   0 days 00:00:16.888888888\n",
       "18   0 days 00:00:26.319444444\n",
       "23   0 days 00:00:45.513888888\n",
       "27   0 days 00:00:23.638888888\n",
       "28   0 days 00:00:25.372222222\n",
       "29   0 days 00:00:24.634920634\n",
       "30   0 days 00:00:25.298611111\n",
       "31             0 days 00:00:26\n",
       "36   0 days 00:00:23.097222222\n",
       "40   0 days 00:00:17.666666666\n",
       "45   0 days 00:00:21.972222222\n",
       "49   0 days 00:00:26.569444444\n",
       "Name: AvgRespTime, dtype: timedelta64[ns]"
      ]
     },
     "execution_count": 31,
     "metadata": {},
     "output_type": "execute_result"
    }
   ],
   "source": [
    "#9 . average weekly response time for each agent\n",
    "df['AvgRespTime'] = pd.to_timedelta(df['Average Response Time'])\n",
    "df.groupby('service_date_week')['AvgRespTime'].mean()"
   ]
  },
  {
   "cell_type": "code",
   "execution_count": 53,
   "id": "f5cc1f4b",
   "metadata": {},
   "outputs": [
    {
     "data": {
      "text/plain": [
       "service_date_week\n",
       "1    0 days 00:07:05.194444444\n",
       "6    0 days 00:03:41.666666666\n",
       "10   0 days 00:04:06.680555555\n",
       "14   0 days 00:05:02.513888888\n",
       "18      0 days 00:05:42.750000\n",
       "23      0 days 00:09:36.625000\n",
       "27   0 days 00:07:15.041666666\n",
       "28   0 days 00:06:58.216666666\n",
       "29   0 days 00:06:25.388888888\n",
       "30   0 days 00:07:08.106481481\n",
       "31   0 days 00:09:38.736111111\n",
       "36      0 days 00:06:33.250000\n",
       "40   0 days 00:05:11.041666666\n",
       "45      0 days 00:06:44.500000\n",
       "49   0 days 00:06:53.611111111\n",
       "Name: AvgResolutionTm, dtype: timedelta64[ns]"
      ]
     },
     "execution_count": 53,
     "metadata": {},
     "output_type": "execute_result"
    }
   ],
   "source": [
    "#10 . average weekely resolution time for each agents\n",
    "df['AvgResolutionTm'] = pd.to_timedelta(df['Average Resolution Time'])\n",
    "df.groupby('service_date_week')['AvgResolutionTm'].mean()"
   ]
  },
  {
   "cell_type": "code",
   "execution_count": 20,
   "id": "c284b419",
   "metadata": {},
   "outputs": [
    {
     "data": {
      "text/plain": [
       "array(['Prerna Singh', 'Nandani Gupta', 'Ameya Jain', 'Mahesh Sarade',\n",
       "       'Swati ', 'Mukesh ', 'Saikumarreddy N', 'Sanjeev Kumar',\n",
       "       'Shubham Sharma', 'Nishtha Jain', 'Manjunatha A', 'Khushboo Priya',\n",
       "       'Suraj S Bilgi', 'Harikrishnan Shaji', 'Hrisikesh Neogi',\n",
       "       'Shivan K', 'Sowmiya Sivakumar', 'Madhulika G', 'Mithun S',\n",
       "       'Hitesh Choudhary', 'Sanjeevan ', 'Anirudh ', 'Shiva Srivastava',\n",
       "       'Dibyanshu ', 'Ashish ', 'Uday Mishra', 'Aditya Shinde',\n",
       "       'Jayant Kumar', 'Aditya_iot ', 'Prabir Kumar Satapathy',\n",
       "       'Saurabh Shukla', 'Wasim ', 'Samprit ', 'Maitry ', 'Abhishek ',\n",
       "       'Rishav Dash', 'Aravind ', 'Tarun ', 'Muskan Garg', 'Ankit Sharma',\n",
       "       'Bharath ', 'Ashad Nasim', 'Vasanth P', 'Aditya ', 'Amersh ',\n",
       "       'Sandipan Saha', 'Ineuron Intelligence ', 'Mahak ', 'Mukesh Rao ',\n",
       "       'Zeeshan ', 'Anurag Tiwari', 'Ankitjha ', 'Saif Khan',\n",
       "       'Jaydeep Dixit', 'Sudhanshu Kumar', 'Maneesh ', 'Hyder Abbas',\n",
       "       'Rohan ', 'Vivek ', 'Nitin M', 'Shivan_S ', 'Spuri ',\n",
       "       'Ayushi Mishra', 'Chaitra K Hiremath', 'Prateek _iot ',\n",
       "       'Boktiar Ahmed Bappy', 'Shivananda Sonwane', 'Ishawant Kumar',\n",
       "       'Deepranjan Gupta', 'Jawala Prakash'], dtype=object)"
      ]
     },
     "execution_count": 20,
     "metadata": {},
     "output_type": "execute_result"
    }
   ],
   "source": [
    "#11 . list of all agents name\n",
    "df['Agent Name'].unique()"
   ]
  },
  {
   "cell_type": "code",
   "execution_count": 19,
   "id": "03218769",
   "metadata": {},
   "outputs": [],
   "source": [
    "#12 . percentage of chat on which they have received a feedback\n",
    "df['%age'] = 100 * df['Total Feedback'] / df['Total Chats']"
   ]
  },
  {
   "cell_type": "code",
   "execution_count": 20,
   "id": "e06cc770",
   "metadata": {},
   "outputs": [
    {
     "data": {
      "text/html": [
       "<div>\n",
       "<style scoped>\n",
       "    .dataframe tbody tr th:only-of-type {\n",
       "        vertical-align: middle;\n",
       "    }\n",
       "\n",
       "    .dataframe tbody tr th {\n",
       "        vertical-align: top;\n",
       "    }\n",
       "\n",
       "    .dataframe thead th {\n",
       "        text-align: right;\n",
       "    }\n",
       "</style>\n",
       "<table border=\"1\" class=\"dataframe\">\n",
       "  <thead>\n",
       "    <tr style=\"text-align: right;\">\n",
       "      <th></th>\n",
       "      <th>Agent Name</th>\n",
       "      <th>%age</th>\n",
       "    </tr>\n",
       "  </thead>\n",
       "  <tbody>\n",
       "    <tr>\n",
       "      <th>0</th>\n",
       "      <td>Prerna Singh</td>\n",
       "      <td>81.818182</td>\n",
       "    </tr>\n",
       "    <tr>\n",
       "      <th>1</th>\n",
       "      <td>Nandani Gupta</td>\n",
       "      <td>63.636364</td>\n",
       "    </tr>\n",
       "    <tr>\n",
       "      <th>2</th>\n",
       "      <td>Ameya Jain</td>\n",
       "      <td>78.571429</td>\n",
       "    </tr>\n",
       "    <tr>\n",
       "      <th>3</th>\n",
       "      <td>Mahesh Sarade</td>\n",
       "      <td>50.000000</td>\n",
       "    </tr>\n",
       "    <tr>\n",
       "      <th>4</th>\n",
       "      <td>Swati</td>\n",
       "      <td>42.857143</td>\n",
       "    </tr>\n",
       "    <tr>\n",
       "      <th>...</th>\n",
       "      <td>...</td>\n",
       "      <td>...</td>\n",
       "    </tr>\n",
       "    <tr>\n",
       "      <th>2101</th>\n",
       "      <td>Jaydeep Dixit</td>\n",
       "      <td>52.000000</td>\n",
       "    </tr>\n",
       "    <tr>\n",
       "      <th>2102</th>\n",
       "      <td>Shivananda Sonwane</td>\n",
       "      <td>60.869565</td>\n",
       "    </tr>\n",
       "    <tr>\n",
       "      <th>2103</th>\n",
       "      <td>Khushboo Priya</td>\n",
       "      <td>75.000000</td>\n",
       "    </tr>\n",
       "    <tr>\n",
       "      <th>2104</th>\n",
       "      <td>Hrisikesh Neogi</td>\n",
       "      <td>60.000000</td>\n",
       "    </tr>\n",
       "    <tr>\n",
       "      <th>2105</th>\n",
       "      <td>Tarun</td>\n",
       "      <td>27.272727</td>\n",
       "    </tr>\n",
       "  </tbody>\n",
       "</table>\n",
       "<p>731 rows × 2 columns</p>\n",
       "</div>"
      ],
      "text/plain": [
       "              Agent Name       %age\n",
       "0           Prerna Singh  81.818182\n",
       "1          Nandani Gupta  63.636364\n",
       "2             Ameya Jain  78.571429\n",
       "3          Mahesh Sarade  50.000000\n",
       "4                 Swati   42.857143\n",
       "...                  ...        ...\n",
       "2101       Jaydeep Dixit  52.000000\n",
       "2102  Shivananda Sonwane  60.869565\n",
       "2103      Khushboo Priya  75.000000\n",
       "2104     Hrisikesh Neogi  60.000000\n",
       "2105              Tarun   27.272727\n",
       "\n",
       "[731 rows x 2 columns]"
      ]
     },
     "execution_count": 20,
     "metadata": {},
     "output_type": "execute_result"
    }
   ],
   "source": [
    "df_percentage = df[df['%age'] > 0.0]\n",
    "df_percentage[['Agent Name', '%age']]"
   ]
  },
  {
   "cell_type": "code",
   "execution_count": 44,
   "id": "b00fe870",
   "metadata": {},
   "outputs": [],
   "source": [
    "#13 . Total contributation hour for each and every agents weekly basis"
   ]
  },
  {
   "cell_type": "code",
   "execution_count": null,
   "id": "95086820",
   "metadata": {},
   "outputs": [],
   "source": [
    "#14. total percentage of active hour for a month"
   ]
  },
  {
   "cell_type": "code",
   "execution_count": 46,
   "id": "2c330ccf",
   "metadata": {},
   "outputs": [
    {
     "data": {
      "text/html": [
       "<div>\n",
       "<style scoped>\n",
       "    .dataframe tbody tr th:only-of-type {\n",
       "        vertical-align: middle;\n",
       "    }\n",
       "\n",
       "    .dataframe tbody tr th {\n",
       "        vertical-align: top;\n",
       "    }\n",
       "\n",
       "    .dataframe thead th {\n",
       "        text-align: right;\n",
       "    }\n",
       "</style>\n",
       "<table border=\"1\" class=\"dataframe\">\n",
       "  <thead>\n",
       "    <tr style=\"text-align: right;\">\n",
       "      <th></th>\n",
       "      <th>AvgRespTime</th>\n",
       "    </tr>\n",
       "    <tr>\n",
       "      <th>service_date_month</th>\n",
       "      <th></th>\n",
       "    </tr>\n",
       "  </thead>\n",
       "  <tbody>\n",
       "    <tr>\n",
       "      <th>1</th>\n",
       "      <td>0 days 00:25:08</td>\n",
       "    </tr>\n",
       "    <tr>\n",
       "      <th>2</th>\n",
       "      <td>0 days 00:21:25</td>\n",
       "    </tr>\n",
       "    <tr>\n",
       "      <th>3</th>\n",
       "      <td>0 days 00:20:25</td>\n",
       "    </tr>\n",
       "    <tr>\n",
       "      <th>4</th>\n",
       "      <td>0 days 00:20:16</td>\n",
       "    </tr>\n",
       "    <tr>\n",
       "      <th>5</th>\n",
       "      <td>0 days 00:31:35</td>\n",
       "    </tr>\n",
       "    <tr>\n",
       "      <th>6</th>\n",
       "      <td>0 days 00:54:37</td>\n",
       "    </tr>\n",
       "    <tr>\n",
       "      <th>7</th>\n",
       "      <td>0 days 09:29:41</td>\n",
       "    </tr>\n",
       "    <tr>\n",
       "      <th>8</th>\n",
       "      <td>0 days 00:31:12</td>\n",
       "    </tr>\n",
       "    <tr>\n",
       "      <th>9</th>\n",
       "      <td>0 days 00:27:43</td>\n",
       "    </tr>\n",
       "    <tr>\n",
       "      <th>10</th>\n",
       "      <td>0 days 00:21:12</td>\n",
       "    </tr>\n",
       "    <tr>\n",
       "      <th>11</th>\n",
       "      <td>0 days 00:26:22</td>\n",
       "    </tr>\n",
       "    <tr>\n",
       "      <th>12</th>\n",
       "      <td>0 days 00:31:53</td>\n",
       "    </tr>\n",
       "  </tbody>\n",
       "</table>\n",
       "</div>"
      ],
      "text/plain": [
       "                       AvgRespTime\n",
       "service_date_month                \n",
       "1                  0 days 00:25:08\n",
       "2                  0 days 00:21:25\n",
       "3                  0 days 00:20:25\n",
       "4                  0 days 00:20:16\n",
       "5                  0 days 00:31:35\n",
       "6                  0 days 00:54:37\n",
       "7                  0 days 09:29:41\n",
       "8                  0 days 00:31:12\n",
       "9                  0 days 00:27:43\n",
       "10                 0 days 00:21:12\n",
       "11                 0 days 00:26:22\n",
       "12                 0 days 00:31:53"
      ]
     },
     "execution_count": 46,
     "metadata": {},
     "output_type": "execute_result"
    }
   ],
   "source": [
    "art_monthwise = df.groupby(['service_date_month']).agg({'AvgRespTime': 'sum'})\n",
    "art_monthwise"
   ]
  },
  {
   "cell_type": "code",
   "execution_count": 50,
   "id": "855e4148",
   "metadata": {},
   "outputs": [
    {
     "data": {
      "text/html": [
       "<div>\n",
       "<style scoped>\n",
       "    .dataframe tbody tr th:only-of-type {\n",
       "        vertical-align: middle;\n",
       "    }\n",
       "\n",
       "    .dataframe tbody tr th {\n",
       "        vertical-align: top;\n",
       "    }\n",
       "\n",
       "    .dataframe thead th {\n",
       "        text-align: right;\n",
       "    }\n",
       "</style>\n",
       "<table border=\"1\" class=\"dataframe\">\n",
       "  <thead>\n",
       "    <tr style=\"text-align: right;\">\n",
       "      <th></th>\n",
       "      <th>AvgRespTime</th>\n",
       "    </tr>\n",
       "    <tr>\n",
       "      <th>service_date_month</th>\n",
       "      <th></th>\n",
       "    </tr>\n",
       "  </thead>\n",
       "  <tbody>\n",
       "    <tr>\n",
       "      <th>1</th>\n",
       "      <td>2.851255</td>\n",
       "    </tr>\n",
       "    <tr>\n",
       "      <th>2</th>\n",
       "      <td>2.429617</td>\n",
       "    </tr>\n",
       "    <tr>\n",
       "      <th>3</th>\n",
       "      <td>2.316172</td>\n",
       "    </tr>\n",
       "    <tr>\n",
       "      <th>4</th>\n",
       "      <td>2.299155</td>\n",
       "    </tr>\n",
       "    <tr>\n",
       "      <th>5</th>\n",
       "      <td>3.582976</td>\n",
       "    </tr>\n",
       "    <tr>\n",
       "      <th>6</th>\n",
       "      <td>6.195995</td>\n",
       "    </tr>\n",
       "    <tr>\n",
       "      <th>7</th>\n",
       "      <td>64.627805</td>\n",
       "    </tr>\n",
       "    <tr>\n",
       "      <th>8</th>\n",
       "      <td>3.539488</td>\n",
       "    </tr>\n",
       "    <tr>\n",
       "      <th>9</th>\n",
       "      <td>3.144321</td>\n",
       "    </tr>\n",
       "    <tr>\n",
       "      <th>10</th>\n",
       "      <td>2.405037</td>\n",
       "    </tr>\n",
       "    <tr>\n",
       "      <th>11</th>\n",
       "      <td>2.991170</td>\n",
       "    </tr>\n",
       "    <tr>\n",
       "      <th>12</th>\n",
       "      <td>3.617009</td>\n",
       "    </tr>\n",
       "  </tbody>\n",
       "</table>\n",
       "</div>"
      ],
      "text/plain": [
       "                    AvgRespTime\n",
       "service_date_month             \n",
       "1                      2.851255\n",
       "2                      2.429617\n",
       "3                      2.316172\n",
       "4                      2.299155\n",
       "5                      3.582976\n",
       "6                      6.195995\n",
       "7                     64.627805\n",
       "8                      3.539488\n",
       "9                      3.144321\n",
       "10                     2.405037\n",
       "11                     2.991170\n",
       "12                     3.617009"
      ]
     },
     "execution_count": 50,
     "metadata": {},
     "output_type": "execute_result"
    }
   ],
   "source": [
    "art_percent = art_monthwise.groupby(level=0).apply(lambda x: 100 * x / df['AvgRespTime'].sum())\n",
    "art_percent"
   ]
  }
 ],
 "metadata": {
  "kernelspec": {
   "display_name": "Python 3 (ipykernel)",
   "language": "python",
   "name": "python3"
  },
  "language_info": {
   "codemirror_mode": {
    "name": "ipython",
    "version": 3
   },
   "file_extension": ".py",
   "mimetype": "text/x-python",
   "name": "python",
   "nbconvert_exporter": "python",
   "pygments_lexer": "ipython3",
   "version": "3.9.7"
  }
 },
 "nbformat": 4,
 "nbformat_minor": 5
}
